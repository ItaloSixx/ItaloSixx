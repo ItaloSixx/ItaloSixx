{
  "nbformat": 4,
  "nbformat_minor": 0,
  "metadata": {
    "colab": {
      "provenance": [],
      "toc_visible": true,
      "collapsed_sections": [
        "DTeGzdhotCYe",
        "Ki9Wjz8jtULk"
      ],
      "authorship_tag": "ABX9TyOxb3mHbvU+OS/btCHImg6O",
      "include_colab_link": true
    },
    "kernelspec": {
      "name": "python3",
      "display_name": "Python 3"
    },
    "language_info": {
      "name": "python"
    }
  },
  "cells": [
    {
      "cell_type": "markdown",
      "metadata": {
        "id": "view-in-github",
        "colab_type": "text"
      },
      "source": [
        "<a href=\"https://colab.research.google.com/github/ItaloSixx/ItaloSixx/blob/main/AtividadeWEB1_ItaloJefersonSS.ipynb\" target=\"_parent\"><img src=\"https://colab.research.google.com/assets/colab-badge.svg\" alt=\"Open In Colab\"/></a>"
      ]
    },
    {
      "cell_type": "markdown",
      "source": [
        "Instituto Federal Baiano\n",
        "\n",
        "Curso: Análise e Desenvolvimento de Sistemas\n",
        "\n",
        "Docente: Carlos Anderson Oliveira Silva\n",
        "\n",
        "Discente: Ítalo Jeferson Souza Silva\n",
        "\n",
        "Turma: 4 Ads       \n",
        "          \n",
        "Data: 30/03/2023"
      ],
      "metadata": {
        "id": "lJTxIk-I0C35"
      }
    },
    {
      "cell_type": "markdown",
      "source": [
        "#Lista 1 de exercícios em Python"
      ],
      "metadata": {
        "id": "DTeGzdhotCYe"
      }
    },
    {
      "cell_type": "code",
      "execution_count": 18,
      "metadata": {
        "id": "TLteSSZqnvye",
        "colab": {
          "base_uri": "https://localhost:8080/"
        },
        "outputId": "ee3546f6-be3a-440e-b4ac-8e6c96e9674a"
      },
      "outputs": [
        {
          "output_type": "stream",
          "name": "stdout",
          "text": [
            "Digite a altura em metros: 1.75\n",
            "Qual seu sexo: Masculino\n",
            "Qual seu peso atual? 76\n",
            "Voce esta acima do peso!\n"
          ]
        }
      ],
      "source": [
        "\n",
        "#questão1\n",
        "altura = float(input(\"Digite a altura em metros: \"))\n",
        "sexo =  (input(\"Qual seu sexo: \"))\n",
        "\n",
        "#calculo\n",
        "if sexo == \"Feminino\":\n",
        "    pesoIdeal  = (62.1 * altura) - 44 \n",
        "elif sexo == \"Masculino\":\n",
        "    pesoIdeal = (72.7 * altura) - 58\n",
        "else:\n",
        "    print(\"Sexo invalido. Use Feminino ou Masculino\")\n",
        "\n",
        "pesoPessoa = float(input(\"Qual seu peso atual? \"))\n",
        "\n",
        "#verificacao peso\n",
        "if pesoPessoa < pesoIdeal:\n",
        "    print(\"Voce esta abaixo do peso!\")\n",
        "elif pesoPessoa > pesoIdeal:\n",
        "    print(\"Voce esta acima do peso!\")\n",
        "else:\n",
        "    print(\"Voce esta dentro do peso ideal!\")\n"
      ]
    },
    {
      "cell_type": "code",
      "source": [
        "#questão2\n",
        "tamanhoArquivoMb = float(input(\"Tamanho do arquivo (MB): \"))\n",
        "velocidadeInternetMbps = float(input(\"Velocidade de download(MB): \"))\n",
        "\n",
        "\n",
        "#internet\n",
        "velocidadeInternetKbps = velocidadeInternetMbps * 1000\n",
        "velocidadeInternetbps = velocidadeInternetKbps * 1000\n",
        "velocidadeInternetbs = velocidadeInternetbps / 8\n",
        "\n",
        "#arquivo\n",
        "tamanhoArquivob = tamanhoArquivoMb * (1024 ** 2)\n",
        "\n",
        "#calcular tempo download\n",
        "tempoDownloadS = tamanhoArquivob / velocidadeInternetbs\n",
        "\n",
        "tempoDownloadM = tempoDownloadS / 60 \n",
        "\n",
        "print (f\"Tempo de download {tempoDownloadM: .2f} min\")\n"
      ],
      "metadata": {
        "id": "bzE99u-9sOI0"
      },
      "execution_count": null,
      "outputs": []
    },
    {
      "cell_type": "code",
      "source": [
        "#questão3\n",
        "numero1 = float(input(\"Primeiro número: \"))\n",
        "numero2 = float(input(\"Segundo número: \"))\n",
        "numero3 = float(input(\"Terceiro número: \"))\n",
        "\n",
        "#maior\n",
        "maior = max(numero1, numero2, numero3)\n",
        "\n",
        "#menor\n",
        "menor = min(numero1, numero2, numero3)\n",
        "\n",
        "#meio\n",
        "meio = (numero1 + numero2 + numero3) - maior - menor\n",
        "\n",
        "#exibe os números em ordem decrescente\n",
        "print(maior, meio, menor)"
      ],
      "metadata": {
        "id": "_KJB_JfHsRbk"
      },
      "execution_count": null,
      "outputs": []
    },
    {
      "cell_type": "code",
      "source": [
        "#questão4\n",
        "turno = input(\"Em que turno voce estuda, matutino, vespetino ou noturno?\")\n",
        "\n",
        "if turno == 'matutino':\n",
        "    print(\"Bom dia!!\")\n",
        "elif turno == 'vespetino':\n",
        "    print(\"Boa tarde!!\")\n",
        "elif turno == 'noturno':\n",
        "    print(\"Boa noite!!\")\n",
        "else:\n",
        "    print(\"Invalido, (digite matutino, vespetino ou noturno)\")"
      ],
      "metadata": {
        "id": "TKpWopitsUYX"
      },
      "execution_count": null,
      "outputs": []
    },
    {
      "cell_type": "code",
      "source": [
        "#questão5\n",
        "numero = int(input(\"Número inteiro: \"))\n",
        "\n",
        "if numero % 2 == 0:\n",
        "    print(\"Par.\")\n",
        "else:\n",
        "    print(\"Ímpar.\")"
      ],
      "metadata": {
        "id": "x2OMdJWLsWpA"
      },
      "execution_count": null,
      "outputs": []
    },
    {
      "cell_type": "code",
      "source": [
        "#questão6\n",
        "numero1 = input(\"Numero 1: \")\n",
        "numero2 = input(\"Numero 2: \")\n",
        "numero3 = input(\"Numero 3: \")\n",
        "numero4 = input(\"Numero 4: \")\n",
        "numero5 = input(\"Numero 5: \")\n",
        "\n",
        "maior = max(numero1, numero2, numero3, numero4, numero5)\n",
        "\n",
        "print(f\"O maior numero e: {maior}\")"
      ],
      "metadata": {
        "id": "OSoEoOWdsl-N"
      },
      "execution_count": null,
      "outputs": []
    },
    {
      "cell_type": "code",
      "source": [
        "#questão7\n",
        "numero1 = float(input(\"Numero 1: \"))\n",
        "numero2 = float(input(\"Numero 2: \"))\n",
        "numero3 = float(input(\"Numero 3: \"))\n",
        "numero4 = float(input(\"Numero 4: \"))\n",
        "numero5 = float(input(\"Numero 5: \"))\n",
        "\n",
        "soma = numero1 + numero2 + numero3 + numero4 + numero5\n",
        "media = soma / 5\n",
        "\n",
        "print(f\"A soma e: {soma}\\nA media e: {media}\")"
      ],
      "metadata": {
        "id": "l_TTcQZ4sorc"
      },
      "execution_count": null,
      "outputs": []
    },
    {
      "cell_type": "code",
      "source": [
        "#questão8\n",
        "for numero in range(1, 51):\n",
        "    if numero % 2 != 0:\n",
        "        print(numero)"
      ],
      "metadata": {
        "id": "cmN2FyJvsq9G"
      },
      "execution_count": null,
      "outputs": []
    },
    {
      "cell_type": "code",
      "source": [
        "#questão9\n",
        "numeros = []\n",
        "\n",
        "\n",
        "#mentendo os 10 numeros\n",
        "for i in range(10):\n",
        "    numero = float(input(f\"Digite {i+1} numero\"))\n",
        "    numeros.append(numero)\n",
        "\n",
        "\n",
        "print(\"Numeros inversos\")\n",
        "for numero in reversed(numeros):\n",
        "    print(numero)"
      ],
      "metadata": {
        "id": "mzwXzDWdsudM"
      },
      "execution_count": null,
      "outputs": []
    },
    {
      "cell_type": "code",
      "source": [
        "#questão10\n",
        "notas = []\n",
        "nota = float(input(\"Digite uma nota ou -1 para sair: \"))\n",
        "while nota != -1:\n",
        "    notas.append(nota)\n",
        "    nota = float(input(\"Digite uma nota ou -1 para sair: \"))\n",
        "\n",
        "# quantidade de notas\n",
        "quantidade = len(notas)\n",
        "print(f\"Foram lidas {quantidade} notas.\")\n",
        "\n",
        "# exibindo as notas na ordem em que foram informadas\n",
        "print(\"Notas informadas:\")\n",
        "for nota in notas:\n",
        "    print(nota, end=\" \")\n",
        "\n",
        "# exibindo as notas em ordem inversa\n",
        "print(\"\\nNotas em ordem inversa:\")\n",
        "for nota in reversed(notas):\n",
        "    print(nota)"
      ],
      "metadata": {
        "id": "fevdoJh6szFK"
      },
      "execution_count": null,
      "outputs": []
    },
    {
      "cell_type": "markdown",
      "source": [
        "#Programação Orienta a Objetos em Python\n",
        "\n",
        "#Exercícios"
      ],
      "metadata": {
        "id": "Ki9Wjz8jtULk"
      }
    },
    {
      "cell_type": "code",
      "source": [
        "#questão1\n",
        "class Triangulo:\n",
        "    def __init__(self, ladoA, ladoB, ladoC):\n",
        "        self.ladoA = ladoA\n",
        "        self.ladoB = ladoB\n",
        "        self.ladoC = ladoC\n",
        "    \n",
        "    def calcularPerimetro(self):\n",
        "        return self.ladoA + self.ladoB + self.ladoC2\n",
        "    \n",
        "    def getMaiorLado(self):\n",
        "        return max(self.ladoA, self.ladoB, self.ladoC)\n",
        "\n",
        "ladoA = float(input(\"Primeiro lado: \"))\n",
        "ladoB = float(input(\"Segundo lado: \"))\n",
        "ladoC = float(input(\"Terceiro lado: \"))\n",
        "\n",
        "triangulo = Triangulo(ladoA, ladoB, ladoC)\n",
        "\n",
        "print(f\"Perimetro: {triangulo.calcularPerimetro():.2f}\")\n",
        "print(f\"Maior Lado: {triangulo.getMaiorLado():.2f}\")"
      ],
      "metadata": {
        "id": "OJGK9Y3vt8-J",
        "colab": {
          "base_uri": "https://localhost:8080/"
        },
        "outputId": "c9b401cd-6f31-43a9-c67e-b38ebbe11c71"
      },
      "execution_count": 9,
      "outputs": [
        {
          "output_type": "stream",
          "name": "stdout",
          "text": [
            "Primeiro lado: 23\n",
            "Segundo lado: 22\n",
            "Terceiro lado: 20\n",
            "Perimetro: 65.00\n",
            "Maior Lado: 23.00\n"
          ]
        }
      ]
    },
    {
      "cell_type": "code",
      "source": [
        "#questao2\n",
        "class Funcionario:\n",
        "    def __init__(self, nome, salario):\n",
        "        self.nome = nome\n",
        "        self.salario = salario\n",
        "    \n",
        "    def aumentarSalario(self, porcentualDeAumento):\n",
        "        self.salario += self.salario * porcentualDeAumento / 100\n",
        "    \n",
        "italo = Funcionario(\"Italo\", 42300)\n",
        "italo.aumentarSalario(22)\n",
        "print(f\"Novo salário do {italo.nome}: R${italo.salario:.2f}\")"
      ],
      "metadata": {
        "colab": {
          "base_uri": "https://localhost:8080/"
        },
        "id": "TNNy5tm8wEwE",
        "outputId": "a1a36d23-fbb0-4272-802b-96d02ef50a67"
      },
      "execution_count": 14,
      "outputs": [
        {
          "output_type": "stream",
          "name": "stdout",
          "text": [
            "Novo salário do Italo: R$51606.00\n"
          ]
        }
      ]
    },
    {
      "cell_type": "code",
      "source": [
        "#questao3\n",
        "class Livro:\n",
        "    def __init__(self, nome, qtdPaginas, autor, preco):\n",
        "        self.nome = nome\n",
        "        self.qtdPaginas = qtdPaginas\n",
        "        self.autor = autor\n",
        "        self.__preco = preco\n",
        "    \n",
        "    def getPreco(self):\n",
        "        return self.__preco\n",
        "    \n",
        "    def setPreco(self, novoPreco):\n",
        "        self.__preco = novoPreco\n",
        "\n",
        "\n",
        "livro1 = Livro(\"De tao distante\", 200, \"Italo Jeferson\", 50.0)\n",
        "\n",
        "print(f\"Preço do livro'{livro1.nome}': R${livro1.getPreco():.2f}\")\n",
        "\n",
        "livro1.setPreco(92.0)\n",
        "\n",
        "print(f\"Novo preço do livro '{livro1.nome}': R${livro1.getPreco():.2f}\")"
      ],
      "metadata": {
        "colab": {
          "base_uri": "https://localhost:8080/"
        },
        "id": "umxh2dskwtFy",
        "outputId": "e45e3f29-36f5-447c-b414-394cfd490098"
      },
      "execution_count": 15,
      "outputs": [
        {
          "output_type": "stream",
          "name": "stdout",
          "text": [
            "Preço do livro'De tao distante': R$50.00\n",
            "Novo preço do livro 'De tao distante': R$92.00\n"
          ]
        }
      ]
    },
    {
      "cell_type": "code",
      "source": [
        "#questao4\n",
        "class Aluno:\n",
        "    def __init__(self, nome, curso, tempoSemDormir):\n",
        "        self.nome = nome\n",
        "        self.curso = curso\n",
        "        self.tempoSemDormir = tempoSemDormir\n",
        "        \n",
        "    def estudar(self, horasEstudo):\n",
        "        self.tempoSemDormir += horasEstudo\n",
        "        \n",
        "    def dormir(self, horasSono):\n",
        "        self.tempoSemDormir -= horasSono\n",
        "\n",
        "\n",
        "aluno = Aluno(\"Italo\", \"Ads\", 10)\n",
        "aluno.estudar(3) \n",
        "aluno.dormir(5) \n",
        "print(f\"O aluno {aluno.nome} está sem dormir há {aluno.tempoSemDormir} horas.\")"
      ],
      "metadata": {
        "colab": {
          "base_uri": "https://localhost:8080/"
        },
        "id": "4R_Uw0VvxhfZ",
        "outputId": "3ccff47e-9ed2-45a5-cacd-d239cb1fa9f3"
      },
      "execution_count": 17,
      "outputs": [
        {
          "output_type": "stream",
          "name": "stdout",
          "text": [
            "O aluno Italo está sem dormir há 8 horas.\n"
          ]
        }
      ]
    },
    {
      "cell_type": "code",
      "source": [
        "#questao5\n",
        "class Carro:\n",
        "    def __init__(self, consumo):\n",
        "        self.consumo = consumo\n",
        "        self.nivelCombustivel = 0\n",
        "        \n",
        "    def andar(self, distancia):\n",
        "        combustivelNecessario = distancia / self.consumo\n",
        "        if combustivelNecessario <= self.nivelCombustivel:\n",
        "            self.nivelCombustivel -= combustivelNecessario\n",
        "        else:\n",
        "            print(\"Combustível insuficiente para percorrer essa distância.\")\n",
        "        \n",
        "    def obterGasolina(self):\n",
        "        return self.nivelCombustivel\n",
        "    \n",
        "    def adicionarGasolina(self, quantidade):\n",
        "        self.nivelCombustivel += quantidade\n",
        "\n",
        "meuCalhambeque = Carro(15)\n",
        "meuCalhambeque.adicionarGasolina(20) \n",
        "meuCalhambeque.andar(100)\n",
        "print(f\"Restam {meuCalhambeque.obterGasolina()} litros de gasolina no tanque.\") "
      ],
      "metadata": {
        "id": "KKblPB-iyrlK"
      },
      "execution_count": null,
      "outputs": []
    }
  ]
}